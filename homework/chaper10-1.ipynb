{
 "cells": [
  {
   "cell_type": "markdown",
   "id": "8fcd1f81-6162-49ca-9219-436e1f0a38cc",
   "metadata": {},
   "source": [
    "#Chapter10.[기본] 소비 데이터 분석과 승객 생존율 예측"
   ]
  },
  {
   "cell_type": "markdown",
   "id": "af996e5c-9bb7-430a-b2d3-bdfa4030c35a",
   "metadata": {},
   "source": [
    "#Section 01. [판다스 활용] 카드 소비 데이터 분석 ##1. 원본데이터 소개 ##2. 데이터 전처리\n",
    "### 작업용 파일 생성하기"
   ]
  },
  {
   "cell_type": "code",
   "execution_count": 3,
   "id": "bc6befab-e910-40e0-90ce-bf1d2bfd9b79",
   "metadata": {},
   "outputs": [
    {
     "ename": "ModuleNotFoundError",
     "evalue": "No module named 'google.colab'",
     "output_type": "error",
     "traceback": [
      "\u001b[31m---------------------------------------------------------------------------\u001b[39m",
      "\u001b[31mModuleNotFoundError\u001b[39m                       Traceback (most recent call last)",
      "\u001b[36mCell\u001b[39m\u001b[36m \u001b[39m\u001b[32mIn[3]\u001b[39m\u001b[32m, line 1\u001b[39m\n\u001b[32m----> \u001b[39m\u001b[32m1\u001b[39m \u001b[38;5;28;01mfrom\u001b[39;00m\u001b[38;5;250m \u001b[39m\u001b[34;01mgoogle\u001b[39;00m\u001b[34;01m.\u001b[39;00m\u001b[34;01mcolab\u001b[39;00m\u001b[38;5;250m \u001b[39m\u001b[38;5;28;01mimport\u001b[39;00m drive\n\u001b[32m      2\u001b[39m \u001b[38;5;66;03m#Google Colab에서 Google Drive를 사용하기 위해 drive 모듈을 불러옵니다.\u001b[39;00m\n\u001b[32m      3\u001b[39m drive.mount(\u001b[33m'\u001b[39m\u001b[33m/content/dirve\u001b[39m\u001b[33m'\u001b[39m)\n",
      "\u001b[31mModuleNotFoundError\u001b[39m: No module named 'google.colab'"
     ]
    }
   ],
   "source": [
    "from google.colab import drive\n",
    "#Google Colab에서 Google Drive를 사용하기 위해 drive 모듈을 불러옵니다.\n",
    "drive.mount('/content/dirve')\n",
    "#Google Drive를 Colab의 /content/drive 디렉터리에 마운트하여 파일을 읽고 쓸 수 있도록 합니다."
   ]
  },
  {
   "cell_type": "code",
   "execution_count": 4,
   "id": "89dacccb-2d2b-4285-baff-927d10d9d36d",
   "metadata": {},
   "outputs": [
    {
     "name": "stdout",
     "output_type": "stream",
     "text": [
      "<class 'bytes'>\n",
      "<class 'str'>\n"
     ]
    }
   ],
   "source": [
    "import pandas as pd\n",
    "#pandas 라이브러리를 가져옵니다. \n",
    "with open('bc_card.txt', mode='rb') as f:\n",
    "    #bc_card.txt 파일을 **바이너리 모드(rb)**로 엽니다.\n",
    "    with open('bc_card_output.txt', mode='w') as w:\n",
    "        #bc_card_output.txt 파일을 **쓰기 모드(w)**로 엽니다.\n",
    "        data=f.read()\n",
    "        #bc_card.txt 파일의 내용을 바이트(bytes) 형태로 읽어옵니다.\n",
    "        print(type(data))\n",
    "        #data의 타입을 출력\n",
    "        data = data.decode('cp949')\n",
    "        #cp949(한국어 인코딩)로 디코딩하여 문자열 변환합니다.\n",
    "        print(type(data))\n",
    "        #data의 타입 출력\n",
    "        w.write(data)\n",
    "        # 변환된 문자열 데이터를 bc_card_output.txt 파일에 씁니다. "
   ]
  },
  {
   "cell_type": "code",
   "execution_count": 5,
   "id": "acc6d87b-cf9b-4839-9967-69c7c6f7908e",
   "metadata": {},
   "outputs": [
    {
     "data": {
      "text/plain": [
       "10235713"
      ]
     },
     "execution_count": 5,
     "metadata": {},
     "output_type": "execute_result"
    }
   ],
   "source": [
    "with open('bc_card_output.txt', mode='r') as f:\n",
    "    #파일을 읽기 모드(r)로 열어 'bc_card_output.txt'데이터를 읽을 준비를 합니다.\n",
    "    data= f.read()\n",
    "    #bc_card_output.txt 파일의 내용을 바이트(bytes) 형태로 읽어옵니다.\n",
    "len(data)\n",
    "#data의 길이 "
   ]
  },
  {
   "cell_type": "code",
   "execution_count": 6,
   "id": "f00918fe-790e-4be0-99da-9e4bf876102f",
   "metadata": {},
   "outputs": [
    {
     "data": {
      "text/plain": [
       "'REG_YYMM\\tMEGA_CTY_NO\\tMEGA_CTY_NM\\tCTY_RGN_NO\\tCTY_RGN_NM\\tADMI_CTY_NO\\tADMI_CTY_NM\\tMAIN_BUZ_CODE\\tMAIN_BU'"
      ]
     },
     "execution_count": 6,
     "metadata": {},
     "output_type": "execute_result"
    }
   ],
   "source": [
    "data[0:100]\n",
    "#data의 첫100글자를 슬라이싱하여 가져온다."
   ]
  },
  {
   "cell_type": "code",
   "execution_count": 7,
   "id": "9e807cd4-0182-441b-82d3-eaa142717842",
   "metadata": {},
   "outputs": [
    {
     "data": {
      "text/plain": [
       "['REG_YYMM',\n",
       " 'MEGA_CTY_NO',\n",
       " 'MEGA_CTY_NM',\n",
       " 'CTY_RGN_NO',\n",
       " 'CTY_RGN_NM',\n",
       " 'ADMI_CTY_NO',\n",
       " 'ADMI_CTY_NM',\n",
       " 'MAIN_BUZ_CODE',\n",
       " 'MAIN_BUZ_DESC',\n",
       " 'TP_GRP_NO',\n",
       " 'TP_GRP_NM',\n",
       " 'TP_BUZ_NO',\n",
       " 'TP_BUZ_NM',\n",
       " 'CSTMR_GUBUN',\n",
       " 'CSTMR_MEGA_CTY_NO',\n",
       " 'CSTMR_MEGA_CTY_NM',\n",
       " 'CSTMR_CTY_RGN_NO',\n",
       " 'CSTMR_CTY_RGN_NM',\n",
       " 'SEX_CTGO_CD',\n",
       " 'AGE_VAL',\n",
       " 'FLC',\n",
       " 'AMT',\n",
       " 'CNT201906',\n",
       " '11',\n",
       " '서울특별시']"
      ]
     },
     "execution_count": 7,
     "metadata": {},
     "output_type": "execute_result"
    }
   ],
   "source": [
    "split_data = data.split('\\t')\n",
    "#data를 \\t 기준으로 나눈 리스트 생성\n",
    "split_data[0:25]\n",
    "# 탭으로 구분된 25개의 요소를 가져온다."
   ]
  },
  {
   "cell_type": "code",
   "execution_count": 8,
   "id": "99f15da3-2f00-4b4b-bcb7-b469a5bc0ce7",
   "metadata": {},
   "outputs": [
    {
     "data": {
      "text/plain": [
       "3"
      ]
     },
     "execution_count": 8,
     "metadata": {},
     "output_type": "execute_result"
    }
   ],
   "source": [
    "No_Column=23\n",
    "# No_Column 변수에 23 정의\n",
    "len(split_data)%No_Column\n",
    "# split_data의 개수를 23으로 나눈 나머지를 계산."
   ]
  },
  {
   "cell_type": "code",
   "execution_count": 9,
   "id": "671070ec-ffc9-4bb1-8039-ace01f7fee9f",
   "metadata": {},
   "outputs": [
    {
     "data": {
      "text/plain": [
       "(str, list)"
      ]
     },
     "execution_count": 9,
     "metadata": {},
     "output_type": "execute_result"
    }
   ],
   "source": [
    "type(data),type(split_data)\n",
    "#data,split_data의 타입 확인"
   ]
  },
  {
   "cell_type": "code",
   "execution_count": 10,
   "id": "625f5b8c-0dd5-455b-bd96-0ae6b3703c56",
   "metadata": {},
   "outputs": [
    {
     "data": {
      "text/plain": [
       "257"
      ]
     },
     "execution_count": 10,
     "metadata": {},
     "output_type": "execute_result"
    }
   ],
   "source": [
    "data.find('CNT')\n",
    "#data의 'cnt' 가처음등장하는 인덱스 반환"
   ]
  },
  {
   "cell_type": "code",
   "execution_count": 11,
   "id": "be1532fa-61fe-4dfb-acc3-2ec8870a9983",
   "metadata": {},
   "outputs": [
    {
     "data": {
      "text/plain": [
       "('CNT', '201906')"
      ]
     },
     "execution_count": 11,
     "metadata": {},
     "output_type": "execute_result"
    }
   ],
   "source": [
    "data=data[:260]+'\\t'+data[260:]\n",
    "# 260, 261인덱스 사이에 \\t를 넣는다.\n",
    "split_data=data.split('\\t')\n",
    "#\\t를 기준으로 리스트형으로 변환한다.\n",
    "split_data[22],split_data[23]\n",
    "# 22번째와 23번째 출력"
   ]
  },
  {
   "cell_type": "code",
   "execution_count": 12,
   "id": "3ecf28d0-dd3e-4c8c-8465-58dd919bca7e",
   "metadata": {},
   "outputs": [
    {
     "data": {
      "text/plain": [
       "4"
      ]
     },
     "execution_count": 12,
     "metadata": {},
     "output_type": "execute_result"
    }
   ],
   "source": [
    "len(split_data) % No_Column\n",
    "#split_data의 길이를 23으로 나눈 나머지"
   ]
  },
  {
   "cell_type": "code",
   "execution_count": 13,
   "id": "0682dd77-e927-43f2-afe7-303c68d12b48",
   "metadata": {},
   "outputs": [
    {
     "data": {
      "text/plain": [
       "('201906', '1892201906')"
      ]
     },
     "execution_count": 13,
     "metadata": {},
     "output_type": "execute_result"
    }
   ],
   "source": [
    "split_data[23],split_data[23+22]\n",
    "#23번째요소 , 45번째 요소"
   ]
  },
  {
   "cell_type": "code",
   "execution_count": 14,
   "id": "bec6a247-a6f6-481e-820f-24c1e648c5fd",
   "metadata": {},
   "outputs": [
    {
     "data": {
      "text/plain": [
       "4"
      ]
     },
     "execution_count": 14,
     "metadata": {},
     "output_type": "execute_result"
    }
   ],
   "source": [
    "split_data[23+22].find('201906')\n",
    "#45번요소의 201906이 포함된 인덱스를 찾고 찾으면 해당 위치의 인덱스를 반환, 없으면 -1 반환. "
   ]
  },
  {
   "cell_type": "code",
   "execution_count": 15,
   "id": "771d21e4-d5b4-4b5d-a9c9-7bae3f2a78ef",
   "metadata": {},
   "outputs": [],
   "source": [
    "Cycle=22\n",
    "# Cycle 변수에 22 저장\n",
    "i=1 # 첫 번째,두 번쨰 고객 레코드 사이에 cnt와 연도를 구분하기위해 탭(\\t)을 넣으므로\n",
    "#루프 초기값\n",
    "while i < round((len(split_data)-Cycle)/Cycle):\n",
    "    #i 가 splitdata에 22를 빼고 나눈 나머지의 반올림만큼 반복한다.\n",
    "    target_index = split_data[No_Column+Cycle*i].find('201906')\n",
    "    # 타겟 인덱스를 split_data의 22개의 단위로 반복되는 데이터에서 '201906'이 포함된 필드 선택\n",
    "    split_data[No_Column+Cycle*i]=split_data[No_Column+Cycle*i][:target_index]+'\\t'+split_data[No_Column+Cycle*i][target_index:]\n",
    "    # 찾은 타겟위치에 탭 추가하여 나눠둔다.\n",
    "    i+=1\n",
    "    #반복"
   ]
  },
  {
   "cell_type": "code",
   "execution_count": 16,
   "id": "b65cc229-762e-4b41-b56f-0f814a386e76",
   "metadata": {},
   "outputs": [
    {
     "data": {
      "text/plain": [
       "('201906', '1892\\t201906')"
      ]
     },
     "execution_count": 16,
     "metadata": {},
     "output_type": "execute_result"
    }
   ],
   "source": [
    "split_data[23],split_data[23+22]\n",
    "# 23번째 요소와 , 45번째 요소 재확인 (\\t들어갔는지)"
   ]
  },
  {
   "cell_type": "code",
   "execution_count": 17,
   "id": "bc25c07a-f72a-4e9e-b788-bfb5b180eeec",
   "metadata": {},
   "outputs": [
    {
     "name": "stdout",
     "output_type": "stream",
     "text": [
      "['a', 'b', 'c', 'd', '1', '2', '3']\n",
      "\n",
      "a*****b*****c*****d*****1*****2*****3\n"
     ]
    }
   ],
   "source": [
    "a= ['a','b','c','d','1','2','3']\n",
    "# a변수를 리스트 및 문자열 까지 정의\n",
    "print(a) # a 출력\n",
    "print() # 줄바꿈\n",
    "result1=\"*****\".join(a) # join함수로 리스트를 \"*****\"로 구분지음\n",
    "print(result1) # 변환된 문자열 출력"
   ]
  },
  {
   "cell_type": "code",
   "execution_count": 19,
   "id": "f875ee48-04b1-4886-87f0-8204d8a138fd",
   "metadata": {},
   "outputs": [
    {
     "data": {
      "text/plain": [
       "'REG_YYMM\\tMEGA_CTY_NO\\tMEG'"
      ]
     },
     "execution_count": 19,
     "metadata": {},
     "output_type": "execute_result"
    }
   ],
   "source": [
    "join_split_data='\\t'.join(split_data)\n",
    "# join 함수를 사용하여 split_data리스트의 요소를 \\t로 구분지어 나눔 \n",
    "join_split_data[:24] \n",
    "# 변환된함수의 문자열을 0부터23번가지 24개 출력."
   ]
  },
  {
   "cell_type": "code",
   "execution_count": 21,
   "id": "43bd36d1-0d7e-44bd-b3c2-04eaf734eb61",
   "metadata": {},
   "outputs": [
    {
     "data": {
      "text/plain": [
       "['REG_YYMM',\n",
       " 'MEGA_CTY_NO',\n",
       " 'MEGA_CTY_NM',\n",
       " 'CTY_RGN_NO',\n",
       " 'CTY_RGN_NM',\n",
       " 'ADMI_CTY_NO',\n",
       " 'ADMI_CTY_NM',\n",
       " 'MAIN_BUZ_CODE',\n",
       " 'MAIN_BUZ_DESC',\n",
       " 'TP_GRP_NO',\n",
       " 'TP_GRP_NM',\n",
       " 'TP_BUZ_NO',\n",
       " 'TP_BUZ_NM',\n",
       " 'CSTMR_GUBUN',\n",
       " 'CSTMR_MEGA_CTY_NO',\n",
       " 'CSTMR_MEGA_CTY_NM',\n",
       " 'CSTMR_CTY_RGN_NO',\n",
       " 'CSTMR_CTY_RGN_NM',\n",
       " 'SEX_CTGO_CD',\n",
       " 'AGE_VAL',\n",
       " 'FLC',\n",
       " 'AMT',\n",
       " 'CNT']"
      ]
     },
     "execution_count": 21,
     "metadata": {},
     "output_type": "execute_result"
    }
   ],
   "source": [
    "joined_splited_data= join_split_data.split('\\t')\n",
    "#joined_splited_data에 join_split_data의 '\\t'를 기준으로 나누어 저장함\n",
    "joined_splited_data[0:23]\n",
    "# 해당 리스트를 0부터22번까지 23개까지 출력함 "
   ]
  },
  {
   "cell_type": "code",
   "execution_count": 27,
   "id": "3bf0a6ff-6118-4ce3-a50e-0adbdd21d1d7",
   "metadata": {},
   "outputs": [
    {
     "data": {
      "text/plain": [
       "['201906',\n",
       " '11',\n",
       " '서울특별시',\n",
       " '1162',\n",
       " '관악구',\n",
       " '11620585',\n",
       " '낙성대동',\n",
       " '80',\n",
       " '음식',\n",
       " '80',\n",
       " '일반음식',\n",
       " '8006',\n",
       " '서양음식',\n",
       " '내국인',\n",
       " '11',\n",
       " '서울특별시',\n",
       " '1162',\n",
       " '관악구',\n",
       " '2',\n",
       " '30대',\n",
       " '2',\n",
       " '26284804',\n",
       " '1892']"
      ]
     },
     "execution_count": 27,
     "metadata": {},
     "output_type": "execute_result"
    }
   ],
   "source": [
    "total=[joined_splited_data[i:i+No_Column] for i in range(0,len(joined_splited_data),No_Column)]\n",
    "# 0부터 끝까지 No_Column씩 건너뛰며 반복하고 한 번에 No_Column개씩 잘라서 하위 리스트로 만들기\n",
    "total[1]\n",
    "# 1번 인덱스의 값 출력"
   ]
  },
  {
   "cell_type": "markdown",
   "id": "5909b17f-39b7-49f9-ad07-203355996bd0",
   "metadata": {},
   "source": [
    "### 데이터프레임 형식으로 저장하기"
   ]
  },
  {
   "cell_type": "code",
   "execution_count": 29,
   "id": "db19d3b0-c13a-4c8d-9cd3-b4f4661a8c34",
   "metadata": {},
   "outputs": [
    {
     "data": {
      "text/plain": [
       "['201906',\n",
       " '11',\n",
       " '서울특별시',\n",
       " '1135',\n",
       " '노원구',\n",
       " '11350710',\n",
       " '상계9동',\n",
       " '20',\n",
       " '문화',\n",
       " '51',\n",
       " '학원',\n",
       " '5121',\n",
       " '초중고교육기관',\n",
       " '내국인',\n",
       " '41',\n",
       " '경기도',\n",
       " '4115',\n",
       " '의정부시',\n",
       " '1',\n",
       " '40대',\n",
       " '3',\n",
       " '5227500',\n",
       " '7']"
      ]
     },
     "execution_count": 29,
     "metadata": {},
     "output_type": "execute_result"
    }
   ],
   "source": [
    "total=[joined_splited_data[i:i+No_Column] for i in range(0,len(joined_splited_data),No_Column)]\n",
    "total[-1]\n",
    "#해당리스트의 마지막 요소 호출"
   ]
  },
  {
   "cell_type": "code",
   "execution_count": 30,
   "id": "ce1dacbc-3535-4709-ba34-9c6e9d6b0868",
   "metadata": {},
   "outputs": [
    {
     "data": {
      "text/plain": [
       "100002"
      ]
     },
     "execution_count": 30,
     "metadata": {},
     "output_type": "execute_result"
    }
   ],
   "source": [
    "len(total)"
   ]
  },
  {
   "cell_type": "code",
   "execution_count": 31,
   "id": "fc3fa9fd-324a-4add-a7cc-034afde0a6d9",
   "metadata": {},
   "outputs": [
    {
     "data": {
      "text/html": [
       "<div>\n",
       "<style scoped>\n",
       "    .dataframe tbody tr th:only-of-type {\n",
       "        vertical-align: middle;\n",
       "    }\n",
       "\n",
       "    .dataframe tbody tr th {\n",
       "        vertical-align: top;\n",
       "    }\n",
       "\n",
       "    .dataframe thead th {\n",
       "        text-align: right;\n",
       "    }\n",
       "</style>\n",
       "<table border=\"1\" class=\"dataframe\">\n",
       "  <thead>\n",
       "    <tr style=\"text-align: right;\">\n",
       "      <th></th>\n",
       "      <th>REG_YYMM</th>\n",
       "      <th>MEGA_CTY_NO</th>\n",
       "      <th>MEGA_CTY_NM</th>\n",
       "      <th>CTY_RGN_NO</th>\n",
       "      <th>CTY_RGN_NM</th>\n",
       "      <th>ADMI_CTY_NO</th>\n",
       "      <th>ADMI_CTY_NM</th>\n",
       "      <th>MAIN_BUZ_CODE</th>\n",
       "      <th>MAIN_BUZ_DESC</th>\n",
       "      <th>TP_GRP_NO</th>\n",
       "      <th>...</th>\n",
       "      <th>CSTMR_GUBUN</th>\n",
       "      <th>CSTMR_MEGA_CTY_NO</th>\n",
       "      <th>CSTMR_MEGA_CTY_NM</th>\n",
       "      <th>CSTMR_CTY_RGN_NO</th>\n",
       "      <th>CSTMR_CTY_RGN_NM</th>\n",
       "      <th>SEX_CTGO_CD</th>\n",
       "      <th>AGE_VAL</th>\n",
       "      <th>FLC</th>\n",
       "      <th>AMT</th>\n",
       "      <th>CNT</th>\n",
       "    </tr>\n",
       "  </thead>\n",
       "  <tbody>\n",
       "    <tr>\n",
       "      <th>0</th>\n",
       "      <td>201906</td>\n",
       "      <td>11</td>\n",
       "      <td>서울특별시</td>\n",
       "      <td>1162</td>\n",
       "      <td>관악구</td>\n",
       "      <td>11620585</td>\n",
       "      <td>낙성대동</td>\n",
       "      <td>80</td>\n",
       "      <td>음식</td>\n",
       "      <td>80</td>\n",
       "      <td>...</td>\n",
       "      <td>내국인</td>\n",
       "      <td>11</td>\n",
       "      <td>서울특별시</td>\n",
       "      <td>1162</td>\n",
       "      <td>관악구</td>\n",
       "      <td>2</td>\n",
       "      <td>30대</td>\n",
       "      <td>2</td>\n",
       "      <td>26284804</td>\n",
       "      <td>1892</td>\n",
       "    </tr>\n",
       "    <tr>\n",
       "      <th>1</th>\n",
       "      <td>201906</td>\n",
       "      <td>11</td>\n",
       "      <td>서울특별시</td>\n",
       "      <td>1159</td>\n",
       "      <td>동작구</td>\n",
       "      <td>11590560</td>\n",
       "      <td>상도4동</td>\n",
       "      <td>30</td>\n",
       "      <td>생활</td>\n",
       "      <td>40</td>\n",
       "      <td>...</td>\n",
       "      <td>내국인</td>\n",
       "      <td>11</td>\n",
       "      <td>서울특별시</td>\n",
       "      <td>1165</td>\n",
       "      <td>서초구</td>\n",
       "      <td>2</td>\n",
       "      <td>20대</td>\n",
       "      <td>1</td>\n",
       "      <td>109290</td>\n",
       "      <td>18</td>\n",
       "    </tr>\n",
       "    <tr>\n",
       "      <th>2</th>\n",
       "      <td>201906</td>\n",
       "      <td>11</td>\n",
       "      <td>서울특별시</td>\n",
       "      <td>1162</td>\n",
       "      <td>관악구</td>\n",
       "      <td>11620595</td>\n",
       "      <td>청룡동</td>\n",
       "      <td>30</td>\n",
       "      <td>생활</td>\n",
       "      <td>83</td>\n",
       "      <td>...</td>\n",
       "      <td>내국인</td>\n",
       "      <td>11</td>\n",
       "      <td>서울특별시</td>\n",
       "      <td>1162</td>\n",
       "      <td>관악구</td>\n",
       "      <td>1</td>\n",
       "      <td>20대</td>\n",
       "      <td>1</td>\n",
       "      <td>268850</td>\n",
       "      <td>52</td>\n",
       "    </tr>\n",
       "    <tr>\n",
       "      <th>3</th>\n",
       "      <td>201906</td>\n",
       "      <td>11</td>\n",
       "      <td>서울특별시</td>\n",
       "      <td>1144</td>\n",
       "      <td>마포구</td>\n",
       "      <td>11440660</td>\n",
       "      <td>서교동</td>\n",
       "      <td>80</td>\n",
       "      <td>음식</td>\n",
       "      <td>80</td>\n",
       "      <td>...</td>\n",
       "      <td>내국인</td>\n",
       "      <td>11</td>\n",
       "      <td>서울특별시</td>\n",
       "      <td>1138</td>\n",
       "      <td>은평구</td>\n",
       "      <td>1</td>\n",
       "      <td>20대</td>\n",
       "      <td>1</td>\n",
       "      <td>44174450</td>\n",
       "      <td>1790</td>\n",
       "    </tr>\n",
       "    <tr>\n",
       "      <th>4</th>\n",
       "      <td>201906</td>\n",
       "      <td>11</td>\n",
       "      <td>서울특별시</td>\n",
       "      <td>1120</td>\n",
       "      <td>성동구</td>\n",
       "      <td>11200550</td>\n",
       "      <td>사근동</td>\n",
       "      <td>80</td>\n",
       "      <td>음식</td>\n",
       "      <td>80</td>\n",
       "      <td>...</td>\n",
       "      <td>내국인</td>\n",
       "      <td>11</td>\n",
       "      <td>서울특별시</td>\n",
       "      <td>1120</td>\n",
       "      <td>성동구</td>\n",
       "      <td>1</td>\n",
       "      <td>20대</td>\n",
       "      <td>1</td>\n",
       "      <td>60338146</td>\n",
       "      <td>3536</td>\n",
       "    </tr>\n",
       "    <tr>\n",
       "      <th>...</th>\n",
       "      <td>...</td>\n",
       "      <td>...</td>\n",
       "      <td>...</td>\n",
       "      <td>...</td>\n",
       "      <td>...</td>\n",
       "      <td>...</td>\n",
       "      <td>...</td>\n",
       "      <td>...</td>\n",
       "      <td>...</td>\n",
       "      <td>...</td>\n",
       "      <td>...</td>\n",
       "      <td>...</td>\n",
       "      <td>...</td>\n",
       "      <td>...</td>\n",
       "      <td>...</td>\n",
       "      <td>...</td>\n",
       "      <td>...</td>\n",
       "      <td>...</td>\n",
       "      <td>...</td>\n",
       "      <td>...</td>\n",
       "      <td>...</td>\n",
       "    </tr>\n",
       "    <tr>\n",
       "      <th>99996</th>\n",
       "      <td>201906</td>\n",
       "      <td>11</td>\n",
       "      <td>서울특별시</td>\n",
       "      <td>1165</td>\n",
       "      <td>서초구</td>\n",
       "      <td>11650520</td>\n",
       "      <td>서초2동</td>\n",
       "      <td>30</td>\n",
       "      <td>생활</td>\n",
       "      <td>40</td>\n",
       "      <td>...</td>\n",
       "      <td>내국인</td>\n",
       "      <td>43</td>\n",
       "      <td>충청북도</td>\n",
       "      <td>4311</td>\n",
       "      <td>청주시</td>\n",
       "      <td>1</td>\n",
       "      <td>50대</td>\n",
       "      <td>4</td>\n",
       "      <td>50600</td>\n",
       "      <td>10</td>\n",
       "    </tr>\n",
       "    <tr>\n",
       "      <th>99997</th>\n",
       "      <td>201906</td>\n",
       "      <td>11</td>\n",
       "      <td>서울특별시</td>\n",
       "      <td>1117</td>\n",
       "      <td>용산구</td>\n",
       "      <td>11170520</td>\n",
       "      <td>용산2가동</td>\n",
       "      <td>30</td>\n",
       "      <td>생활</td>\n",
       "      <td>40</td>\n",
       "      <td>...</td>\n",
       "      <td>내국인</td>\n",
       "      <td>11</td>\n",
       "      <td>서울특별시</td>\n",
       "      <td>1162</td>\n",
       "      <td>관악구</td>\n",
       "      <td>1</td>\n",
       "      <td>40대</td>\n",
       "      <td>2</td>\n",
       "      <td>38640</td>\n",
       "      <td>7</td>\n",
       "    </tr>\n",
       "    <tr>\n",
       "      <th>99998</th>\n",
       "      <td>201906</td>\n",
       "      <td>11</td>\n",
       "      <td>서울특별시</td>\n",
       "      <td>1156</td>\n",
       "      <td>영등포구</td>\n",
       "      <td>11560535</td>\n",
       "      <td>영등포동</td>\n",
       "      <td>30</td>\n",
       "      <td>생활</td>\n",
       "      <td>40</td>\n",
       "      <td>...</td>\n",
       "      <td>내국인</td>\n",
       "      <td>28</td>\n",
       "      <td>인천광역시</td>\n",
       "      <td>2817</td>\n",
       "      <td>미추홀구</td>\n",
       "      <td>2</td>\n",
       "      <td>30대</td>\n",
       "      <td>2</td>\n",
       "      <td>340590</td>\n",
       "      <td>15</td>\n",
       "    </tr>\n",
       "    <tr>\n",
       "      <th>99999</th>\n",
       "      <td>201906</td>\n",
       "      <td>11</td>\n",
       "      <td>서울특별시</td>\n",
       "      <td>1141</td>\n",
       "      <td>서대문구</td>\n",
       "      <td>11410585</td>\n",
       "      <td>신촌동</td>\n",
       "      <td>40</td>\n",
       "      <td>쇼핑</td>\n",
       "      <td>42</td>\n",
       "      <td>...</td>\n",
       "      <td>내국인</td>\n",
       "      <td>44</td>\n",
       "      <td>충청남도</td>\n",
       "      <td>4413</td>\n",
       "      <td>천안시</td>\n",
       "      <td>1</td>\n",
       "      <td>20대</td>\n",
       "      <td>2</td>\n",
       "      <td>117100</td>\n",
       "      <td>3</td>\n",
       "    </tr>\n",
       "    <tr>\n",
       "      <th>100000</th>\n",
       "      <td>201906</td>\n",
       "      <td>11</td>\n",
       "      <td>서울특별시</td>\n",
       "      <td>1135</td>\n",
       "      <td>노원구</td>\n",
       "      <td>11350710</td>\n",
       "      <td>상계9동</td>\n",
       "      <td>20</td>\n",
       "      <td>문화</td>\n",
       "      <td>51</td>\n",
       "      <td>...</td>\n",
       "      <td>내국인</td>\n",
       "      <td>41</td>\n",
       "      <td>경기도</td>\n",
       "      <td>4115</td>\n",
       "      <td>의정부시</td>\n",
       "      <td>1</td>\n",
       "      <td>40대</td>\n",
       "      <td>3</td>\n",
       "      <td>5227500</td>\n",
       "      <td>7</td>\n",
       "    </tr>\n",
       "  </tbody>\n",
       "</table>\n",
       "<p>100001 rows × 23 columns</p>\n",
       "</div>"
      ],
      "text/plain": [
       "       REG_YYMM MEGA_CTY_NO MEGA_CTY_NM CTY_RGN_NO CTY_RGN_NM ADMI_CTY_NO  \\\n",
       "0        201906          11       서울특별시       1162        관악구    11620585   \n",
       "1        201906          11       서울특별시       1159        동작구    11590560   \n",
       "2        201906          11       서울특별시       1162        관악구    11620595   \n",
       "3        201906          11       서울특별시       1144        마포구    11440660   \n",
       "4        201906          11       서울특별시       1120        성동구    11200550   \n",
       "...         ...         ...         ...        ...        ...         ...   \n",
       "99996    201906          11       서울특별시       1165        서초구    11650520   \n",
       "99997    201906          11       서울특별시       1117        용산구    11170520   \n",
       "99998    201906          11       서울특별시       1156       영등포구    11560535   \n",
       "99999    201906          11       서울특별시       1141       서대문구    11410585   \n",
       "100000   201906          11       서울특별시       1135        노원구    11350710   \n",
       "\n",
       "       ADMI_CTY_NM MAIN_BUZ_CODE MAIN_BUZ_DESC TP_GRP_NO  ... CSTMR_GUBUN  \\\n",
       "0             낙성대동            80            음식        80  ...         내국인   \n",
       "1             상도4동            30            생활        40  ...         내국인   \n",
       "2              청룡동            30            생활        83  ...         내국인   \n",
       "3              서교동            80            음식        80  ...         내국인   \n",
       "4              사근동            80            음식        80  ...         내국인   \n",
       "...            ...           ...           ...       ...  ...         ...   \n",
       "99996         서초2동            30            생활        40  ...         내국인   \n",
       "99997        용산2가동            30            생활        40  ...         내국인   \n",
       "99998         영등포동            30            생활        40  ...         내국인   \n",
       "99999          신촌동            40            쇼핑        42  ...         내국인   \n",
       "100000        상계9동            20            문화        51  ...         내국인   \n",
       "\n",
       "       CSTMR_MEGA_CTY_NO CSTMR_MEGA_CTY_NM CSTMR_CTY_RGN_NO CSTMR_CTY_RGN_NM  \\\n",
       "0                     11             서울특별시             1162              관악구   \n",
       "1                     11             서울특별시             1165              서초구   \n",
       "2                     11             서울특별시             1162              관악구   \n",
       "3                     11             서울특별시             1138              은평구   \n",
       "4                     11             서울특별시             1120              성동구   \n",
       "...                  ...               ...              ...              ...   \n",
       "99996                 43              충청북도             4311              청주시   \n",
       "99997                 11             서울특별시             1162              관악구   \n",
       "99998                 28             인천광역시             2817             미추홀구   \n",
       "99999                 44              충청남도             4413              천안시   \n",
       "100000                41               경기도             4115             의정부시   \n",
       "\n",
       "       SEX_CTGO_CD AGE_VAL FLC       AMT   CNT  \n",
       "0                2     30대   2  26284804  1892  \n",
       "1                2     20대   1    109290    18  \n",
       "2                1     20대   1    268850    52  \n",
       "3                1     20대   1  44174450  1790  \n",
       "4                1     20대   1  60338146  3536  \n",
       "...            ...     ...  ..       ...   ...  \n",
       "99996            1     50대   4     50600    10  \n",
       "99997            1     40대   2     38640     7  \n",
       "99998            2     30대   2    340590    15  \n",
       "99999            1     20대   2    117100     3  \n",
       "100000           1     40대   3   5227500     7  \n",
       "\n",
       "[100001 rows x 23 columns]"
      ]
     },
     "execution_count": 31,
     "metadata": {},
     "output_type": "execute_result"
    }
   ],
   "source": [
    "import pandas as pd #pandas 라이브러리 임포트\n",
    "total_df=pd.DataFrame(total[1:],columns=total[0]) \n",
    "# total_df 를 pandas 라이브러리를 활용하여, frame을 잡는다.\n",
    "#### 첫 번째 행(total[0])을 컬럼명으로, 나머지 행을 데이터로 사용해 DataFrame 생성\n",
    "total_df\n",
    "# 출력해보기"
   ]
  },
  {
   "cell_type": "code",
   "execution_count": null,
   "id": "66f2cb25-54bc-40a9-9719-f6037ea0fdab",
   "metadata": {},
   "outputs": [],
   "source": []
  },
  {
   "cell_type": "code",
   "execution_count": null,
   "id": "965af2c9-92db-4f8d-96e1-45e32d93949e",
   "metadata": {},
   "outputs": [],
   "source": []
  }
 ],
 "metadata": {
  "kernelspec": {
   "display_name": "Python 3 (ipykernel)",
   "language": "python",
   "name": "python3"
  },
  "language_info": {
   "codemirror_mode": {
    "name": "ipython",
    "version": 3
   },
   "file_extension": ".py",
   "mimetype": "text/x-python",
   "name": "python",
   "nbconvert_exporter": "python",
   "pygments_lexer": "ipython3",
   "version": "3.13.2"
  }
 },
 "nbformat": 4,
 "nbformat_minor": 5
}
