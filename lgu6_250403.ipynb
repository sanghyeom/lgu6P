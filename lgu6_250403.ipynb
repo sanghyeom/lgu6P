{
 "cells": [
  {
   "cell_type": "code",
   "execution_count": 5,
   "id": "2382c27b-a397-4ef5-a58a-d0339a247eca",
   "metadata": {},
   "outputs": [
    {
     "data": {
      "text/html": [
       "<div>\n",
       "<style scoped>\n",
       "    .dataframe tbody tr th:only-of-type {\n",
       "        vertical-align: middle;\n",
       "    }\n",
       "\n",
       "    .dataframe tbody tr th {\n",
       "        vertical-align: top;\n",
       "    }\n",
       "\n",
       "    .dataframe thead th {\n",
       "        text-align: right;\n",
       "    }\n",
       "</style>\n",
       "<table border=\"1\" class=\"dataframe\">\n",
       "  <thead>\n",
       "    <tr style=\"text-align: right;\">\n",
       "      <th></th>\n",
       "      <th>sepal_length</th>\n",
       "      <th>species</th>\n",
       "    </tr>\n",
       "  </thead>\n",
       "  <tbody>\n",
       "    <tr>\n",
       "      <th>0</th>\n",
       "      <td>5.1</td>\n",
       "      <td>setosa</td>\n",
       "    </tr>\n",
       "  </tbody>\n",
       "</table>\n",
       "</div>"
      ],
      "text/plain": [
       "   sepal_length species\n",
       "0           5.1  setosa"
      ]
     },
     "execution_count": 5,
     "metadata": {},
     "output_type": "execute_result"
    }
   ],
   "source": [
    "import seaborn as sns\n",
    "import pandas as pd\n",
    "\n",
    "iris = sns.load_dataset(\"iris\")\n",
    "result= iris.loc[:,['sepal_length','species']]\n",
    "result.head(1)"
   ]
  },
  {
   "cell_type": "code",
   "execution_count": 1,
   "id": "828be655-650f-4e1a-b099-d07904c547d7",
   "metadata": {},
   "outputs": [
    {
     "ename": "NameError",
     "evalue": "name 'result' is not defined",
     "output_type": "error",
     "traceback": [
      "\u001b[31m---------------------------------------------------------------------------\u001b[39m",
      "\u001b[31mNameError\u001b[39m                                 Traceback (most recent call last)",
      "\u001b[36mCell\u001b[39m\u001b[36m \u001b[39m\u001b[32mIn[1]\u001b[39m\u001b[32m, line 1\u001b[39m\n\u001b[32m----> \u001b[39m\u001b[32m1\u001b[39m \u001b[43mresult\u001b[49m.to_excel(\u001b[33m\"\u001b[39m\u001b[33mdataset/iris_excel_file.xlsx\u001b[39m\u001b[33m\"\u001b[39m,\n\u001b[32m      2\u001b[39m                 sheet_name=\u001b[33m'\u001b[39m\u001b[33msheet_name_1\u001b[39m\u001b[33m'\u001b[39m,\n\u001b[32m      3\u001b[39m                 index=\u001b[38;5;28;01mFalse\u001b[39;00m)\n",
      "\u001b[31mNameError\u001b[39m: name 'result' is not defined"
     ]
    }
   ],
   "source": [
    "result.to_excel(\"dataset/iris_excel_file.xlsx\",\n",
    "                sheet_name='sheet_name_1',\n",
    "                index=False)\n"
   ]
  },
  {
   "cell_type": "markdown",
   "id": "23be2330-85bf-432b-a091-4eaf455b2cbe",
   "metadata": {},
   "source": [
    "# Group by 연산\n",
    "- 집계함수 같이 활용\n",
    "- 분석의 목적 : 그룹별로 비교하고 싶을 때 사용\n",
    "(분석의 첫 시작 - 비교)"
   ]
  },
  {
   "cell_type": "code",
   "execution_count": 10,
   "id": "751c4997-d0cc-4d26-a913-d6b7835357e2",
   "metadata": {},
   "outputs": [
    {
     "data": {
      "text/html": [
       "<div>\n",
       "<style scoped>\n",
       "    .dataframe tbody tr th:only-of-type {\n",
       "        vertical-align: middle;\n",
       "    }\n",
       "\n",
       "    .dataframe tbody tr th {\n",
       "        vertical-align: top;\n",
       "    }\n",
       "\n",
       "    .dataframe thead th {\n",
       "        text-align: right;\n",
       "    }\n",
       "</style>\n",
       "<table border=\"1\" class=\"dataframe\">\n",
       "  <thead>\n",
       "    <tr style=\"text-align: right;\">\n",
       "      <th></th>\n",
       "      <th>total_bill</th>\n",
       "      <th>tip</th>\n",
       "      <th>sex</th>\n",
       "      <th>smoker</th>\n",
       "      <th>day</th>\n",
       "      <th>time</th>\n",
       "      <th>size</th>\n",
       "    </tr>\n",
       "  </thead>\n",
       "  <tbody>\n",
       "    <tr>\n",
       "      <th>0</th>\n",
       "      <td>16.99</td>\n",
       "      <td>1.01</td>\n",
       "      <td>Female</td>\n",
       "      <td>No</td>\n",
       "      <td>Sun</td>\n",
       "      <td>Dinner</td>\n",
       "      <td>2</td>\n",
       "    </tr>\n",
       "  </tbody>\n",
       "</table>\n",
       "</div>"
      ],
      "text/plain": [
       "   total_bill   tip     sex smoker  day    time  size\n",
       "0       16.99  1.01  Female     No  Sun  Dinner     2"
      ]
     },
     "execution_count": 10,
     "metadata": {},
     "output_type": "execute_result"
    }
   ],
   "source": [
    "import seaborn as sns\n",
    "tips = sns.load_dataset(\"tips\")\n",
    "tips.head(1)"
   ]
  },
  {
   "cell_type": "markdown",
   "id": "c3c35fcf-1065-470b-9c9a-e1b471b30afa",
   "metadata": {},
   "source": [
    "# 성별로 tip 평균구하기"
   ]
  },
  {
   "cell_type": "code",
   "execution_count": 15,
   "id": "d060c48a-85f1-4cb8-9453-755bd7907f37",
   "metadata": {},
   "outputs": [
    {
     "data": {
      "text/plain": [
       "sex\n",
       "Male      3.089618\n",
       "Female    2.833448\n",
       "Name: tip, dtype: float64"
      ]
     },
     "execution_count": 15,
     "metadata": {},
     "output_type": "execute_result"
    }
   ],
   "source": [
    "tips.groupby('sex', observed=True)['tip'].mean()\n",
    "\n",
    "# 통계적으로 유의한가 : 기초 통계 영역으로 넘어감."
   ]
  },
  {
   "cell_type": "markdown",
   "id": "93a99acb-765b-44c2-b609-89a1390ef62e",
   "metadata": {},
   "source": [
    "# 요일별 총 결제 금액 구하기\n"
   ]
  },
  {
   "cell_type": "code",
   "execution_count": 22,
   "id": "0c2aee47-7ca4-4a77-a4f5-4d5b2abc6e72",
   "metadata": {},
   "outputs": [
    {
     "data": {
      "text/plain": [
       "day\n",
       "Thur    1096.33\n",
       "Fri      325.88\n",
       "Sat     1778.40\n",
       "Sun     1627.16\n",
       "Name: total_bill, dtype: float64"
      ]
     },
     "execution_count": 22,
     "metadata": {},
     "output_type": "execute_result"
    }
   ],
   "source": [
    "# 요일별 총 결제 금액 구하기\n",
    "# 집계함수 : sum()\n",
    "tips.groupby('day', observed=True)['total_bill'].sum()"
   ]
  },
  {
   "cell_type": "markdown",
   "id": "5a18d4bb-e779-4621-9406-967dd65fa02f",
   "metadata": {},
   "source": [
    "# 요일 성별로 팁 평균"
   ]
  },
  {
   "cell_type": "code",
   "execution_count": 27,
   "id": "1fe6c07b-ef31-4f74-9c9a-de9e32181f9d",
   "metadata": {},
   "outputs": [
    {
     "data": {
      "text/plain": [
       "day   sex   \n",
       "Thur  Male       561.44\n",
       "      Female     534.89\n",
       "Fri   Male       198.57\n",
       "      Female     127.31\n",
       "Sat   Male      1227.35\n",
       "      Female     551.05\n",
       "Sun   Male      1269.46\n",
       "      Female     357.70\n",
       "Name: total_bill, dtype: float64"
      ]
     },
     "execution_count": 27,
     "metadata": {},
     "output_type": "execute_result"
    }
   ],
   "source": [
    "\n",
    "tips.groupby(['day','sex'], observed=True)['total_bill'].sum()"
   ]
  },
  {
   "cell_type": "markdown",
   "id": "f5868b2e-be3d-4d23-81a2-6a777d85d772",
   "metadata": {},
   "source": [
    "# 식사 시간별 "
   ]
  },
  {
   "cell_type": "code",
   "execution_count": 24,
   "id": "7d530514-3bff-4da9-bdc2-0bfa361542c3",
   "metadata": {},
   "outputs": [
    {
     "data": {
      "text/plain": [
       "time\n",
       "Lunch     2.411765\n",
       "Dinner    2.630682\n",
       "Name: size, dtype: float64"
      ]
     },
     "execution_count": 24,
     "metadata": {},
     "output_type": "execute_result"
    }
   ],
   "source": [
    "tips.groupby('time', observed=True)['size'].mean()"
   ]
  },
  {
   "cell_type": "markdown",
   "id": "147fd65b-4bfb-4166-810c-a524bdc43a3e",
   "metadata": {},
   "source": [
    "## 두가지 범주 그룹바이 출력 변환"
   ]
  },
  {
   "cell_type": "code",
   "execution_count": 34,
   "id": "ac9d8e3a-74ca-4350-94c0-399be0c79c9d",
   "metadata": {},
   "outputs": [
    {
     "data": {
      "text/html": [
       "<div>\n",
       "<style scoped>\n",
       "    .dataframe tbody tr th:only-of-type {\n",
       "        vertical-align: middle;\n",
       "    }\n",
       "\n",
       "    .dataframe tbody tr th {\n",
       "        vertical-align: top;\n",
       "    }\n",
       "\n",
       "    .dataframe thead th {\n",
       "        text-align: right;\n",
       "    }\n",
       "</style>\n",
       "<table border=\"1\" class=\"dataframe\">\n",
       "  <thead>\n",
       "    <tr style=\"text-align: right;\">\n",
       "      <th>sex</th>\n",
       "      <th>Male</th>\n",
       "      <th>Female</th>\n",
       "    </tr>\n",
       "    <tr>\n",
       "      <th>day</th>\n",
       "      <th></th>\n",
       "      <th></th>\n",
       "    </tr>\n",
       "  </thead>\n",
       "  <tbody>\n",
       "    <tr>\n",
       "      <th>Thur</th>\n",
       "      <td>2.980333</td>\n",
       "      <td>2.575625</td>\n",
       "    </tr>\n",
       "    <tr>\n",
       "      <th>Fri</th>\n",
       "      <td>2.693000</td>\n",
       "      <td>2.781111</td>\n",
       "    </tr>\n",
       "    <tr>\n",
       "      <th>Sat</th>\n",
       "      <td>3.083898</td>\n",
       "      <td>2.801786</td>\n",
       "    </tr>\n",
       "    <tr>\n",
       "      <th>Sun</th>\n",
       "      <td>3.220345</td>\n",
       "      <td>3.367222</td>\n",
       "    </tr>\n",
       "  </tbody>\n",
       "</table>\n",
       "</div>"
      ],
      "text/plain": [
       "sex       Male    Female\n",
       "day                     \n",
       "Thur  2.980333  2.575625\n",
       "Fri   2.693000  2.781111\n",
       "Sat   3.083898  2.801786\n",
       "Sun   3.220345  3.367222"
      ]
     },
     "execution_count": 34,
     "metadata": {},
     "output_type": "execute_result"
    }
   ],
   "source": [
    "result = tips.groupby(['day','sex'],observed=True)['tip'].mean()\n",
    "# result type\n",
    "result.unstack() #히트맵 시각화로 바로 적용\n",
    "# result.unstack() DataFrame"
   ]
  },
  {
   "cell_type": "markdown",
   "id": "6fed9570-977f-41ca-83ba-ac75430a1c4d",
   "metadata": {},
   "source": [
    "## 집계함수 2개 사용하기 "
   ]
  },
  {
   "cell_type": "code",
   "execution_count": 52,
   "id": "7ce5d4cf-4b8f-46fa-9f32-43587625908a",
   "metadata": {},
   "outputs": [],
   "source": [
    "# tips.groupby(['day','sex'],observed=True)['tip'].agg(['sum','mean'])\n",
    "#.agg(['sum','mean'])\n",
    "result = tips.groupby(['day','sex'],observed=True)[['tip','total_bill']].agg(['sum','mean'])\n",
    "result.columns = ['_'.join(col) for col in result.columns]\n",
    "result.reset_index().to_csv('reset_index.csv',index=False)"
   ]
  },
  {
   "cell_type": "code",
   "execution_count": null,
   "id": "813f9ecb-0c7d-407d-91f7-a7b732b39664",
   "metadata": {},
   "outputs": [],
   "source": []
  }
 ],
 "metadata": {
  "kernelspec": {
   "display_name": "Python 3 (ipykernel)",
   "language": "python",
   "name": "python3"
  },
  "language_info": {
   "codemirror_mode": {
    "name": "ipython",
    "version": 3
   },
   "file_extension": ".py",
   "mimetype": "text/x-python",
   "name": "python",
   "nbconvert_exporter": "python",
   "pygments_lexer": "ipython3",
   "version": "3.13.2"
  }
 },
 "nbformat": 4,
 "nbformat_minor": 5
}
